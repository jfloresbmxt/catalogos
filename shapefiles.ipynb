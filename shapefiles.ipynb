{
 "cells": [
  {
   "cell_type": "code",
   "execution_count": null,
   "metadata": {},
   "outputs": [],
   "source": [
    "import pandas as pd\n",
    "import json\n",
    "from geojson import Feature, FeatureCollection, Point\n",
    "import geopandas\n",
    "# import os\n",
    "# os.chdir('C:\\\\Users\\\\jflores\\\\Downloads\\\\Gobernanza')\n",
    "# from indicadores.geoestadistica import MarcoGeoestadistico"
   ]
  },
  {
   "cell_type": "code",
   "execution_count": null,
   "metadata": {},
   "outputs": [],
   "source": [
    "# marco = MarcoGeoestadistico()\n",
    "# entidades = marco.Entidades()"
   ]
  },
  {
   "cell_type": "code",
   "execution_count": null,
   "metadata": {},
   "outputs": [],
   "source": [
    "my_dict = (geopandas\n",
    "           .read_parquet(\"shp/shapefiles_estados.parquet\")\n",
    "           )\n",
    "\n",
    "my_dict = geopandas.GeoDataFrame(my_dict, geometry=my_dict[\"geometry\"])\n",
    "my_dict.to_file(\"shp/shp_estados.json\", driver='GeoJSON')"
   ]
  },
  {
   "cell_type": "code",
   "execution_count": null,
   "metadata": {},
   "outputs": [],
   "source": [
    "my_dict = (geopandas\n",
    "           .read_parquet(\"shp/shapefiles_municipios.parquet\")\n",
    "           )\n",
    "\n",
    "my_dict = geopandas.GeoDataFrame(my_dict, geometry=my_dict[\"geometry\"])\n",
    "my_dict.to_file(\"shp/shp_mun.json\", driver='GeoJSON')"
   ]
  },
  {
   "cell_type": "code",
   "execution_count": null,
   "metadata": {},
   "outputs": [],
   "source": [
    "with open(\"shp/shp_mun.json\", 'r', encoding=\"utf-8\") as openfile:\n",
    "            json_object = json.load(openfile)\n",
    "\n",
    "json_object"
   ]
  }
 ],
 "metadata": {
  "kernelspec": {
   "display_name": "Python 3",
   "language": "python",
   "name": "python3"
  },
  "language_info": {
   "codemirror_mode": {
    "name": "ipython",
    "version": 3
   },
   "file_extension": ".py",
   "mimetype": "text/x-python",
   "name": "python",
   "nbconvert_exporter": "python",
   "pygments_lexer": "ipython3",
   "version": "3.10.9"
  }
 },
 "nbformat": 4,
 "nbformat_minor": 2
}
