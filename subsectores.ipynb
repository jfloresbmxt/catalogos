{
 "cells": [
  {
   "cell_type": "code",
   "execution_count": 1,
   "metadata": {},
   "outputs": [],
   "source": [
    "import pandas as pd\n",
    "import json"
   ]
  },
  {
   "cell_type": "code",
   "execution_count": 8,
   "metadata": {},
   "outputs": [
    {
     "name": "stderr",
     "output_type": "stream",
     "text": [
      "c:\\Users\\jflores\\AppData\\Local\\Programs\\Python\\Python310\\lib\\site-packages\\openpyxl\\styles\\stylesheet.py:226: UserWarning: Workbook contains no default style, apply openpyxl's default\n",
      "  warn(\"Workbook contains no default style, apply openpyxl's default\")\n"
     ]
    }
   ],
   "source": [
    "tigie = pd.read_excel(\"tigie-scian/tigie.xlsx\",\n",
    "              usecols=[\"partida\", \"scian\", \"subsector\", \"descripcion\"],\n",
    "              dtype={\"partida\":str, \"scian\":str, \"subsector\":str})\n",
    "\n",
    "my_dict = tigie.to_dict()\n",
    "\n",
    "tf = open(\"tigie-scian/tigie.json\", \"w\")\n",
    "json.dump(my_dict, tf)\n",
    "tf.close()"
   ]
  },
  {
   "cell_type": "code",
   "execution_count": 12,
   "metadata": {},
   "outputs": [
    {
     "name": "stderr",
     "output_type": "stream",
     "text": [
      "c:\\Users\\jflores\\AppData\\Local\\Programs\\Python\\Python310\\lib\\site-packages\\openpyxl\\styles\\stylesheet.py:226: UserWarning: Workbook contains no default style, apply openpyxl's default\n",
      "  warn(\"Workbook contains no default style, apply openpyxl's default\")\n"
     ]
    }
   ],
   "source": [
    "tigie_63 = pd.read_excel(\"tigie-scian/tigie_scian_63.xlsx\",\n",
    "              usecols=[\"partida\", \"subsector\", \"descripcion\"],\n",
    "              dtype={\"partida\":str, \"subsector\":str}\n",
    "              )\n",
    "\n",
    "my_dict = tigie_63.to_dict()\n",
    "\n",
    "tf = open(\"tigie-scian/tigie_63.json\", \"w\")\n",
    "json.dump(my_dict, tf)\n",
    "tf.close()"
   ]
  },
  {
   "cell_type": "code",
   "execution_count": 13,
   "metadata": {},
   "outputs": [
    {
     "name": "stderr",
     "output_type": "stream",
     "text": [
      "c:\\Users\\jflores\\AppData\\Local\\Programs\\Python\\Python310\\lib\\site-packages\\openpyxl\\styles\\stylesheet.py:226: UserWarning: Workbook contains no default style, apply openpyxl's default\n",
      "  warn(\"Workbook contains no default style, apply openpyxl's default\")\n"
     ]
    }
   ],
   "source": [
    "tigie_64 = pd.read_excel(\"tigie-scian/tigie_scian_64.xlsx\",\n",
    "              usecols=[\"partida\", \"rama\"],\n",
    "              dtype={\"partida\":str, \"rama\":str}\n",
    "              )\n",
    "\n",
    "my_dict = tigie_64.to_dict()\n",
    "\n",
    "tf = open(\"tigie-scian/tigie_64.json\", \"w\")\n",
    "json.dump(my_dict, tf)\n",
    "tf.close()"
   ]
  },
  {
   "cell_type": "code",
   "execution_count": 14,
   "metadata": {},
   "outputs": [],
   "source": [
    "tigie_66 = pd.read_excel(\"tigie-scian/tigie_scian_66.xlsx\",\n",
    "              usecols=[\"partida\", \"scian\", \"desc_scian\"],\n",
    "              dtype={\"partida\":str, \"scian\":str}\n",
    "              )\n",
    "\n",
    "my_dict = tigie_66.to_dict()\n",
    "\n",
    "tf = open(\"tigie-scian/tigie_66.json\", \"w\")\n",
    "json.dump(my_dict, tf)\n",
    "tf.close()"
   ]
  },
  {
   "cell_type": "code",
   "execution_count": 2,
   "metadata": {},
   "outputs": [],
   "source": [
    "import requests\n",
    "url = \"https://raw.githubusercontent.com/jfloresbmxt/catalogos/main/tigie-scian/tigie.json\""
   ]
  },
  {
   "cell_type": "code",
   "execution_count": 10,
   "metadata": {},
   "outputs": [
    {
     "data": {
      "text/html": [
       "<div>\n",
       "<style scoped>\n",
       "    .dataframe tbody tr th:only-of-type {\n",
       "        vertical-align: middle;\n",
       "    }\n",
       "\n",
       "    .dataframe tbody tr th {\n",
       "        vertical-align: top;\n",
       "    }\n",
       "\n",
       "    .dataframe thead th {\n",
       "        text-align: right;\n",
       "    }\n",
       "</style>\n",
       "<table border=\"1\" class=\"dataframe\">\n",
       "  <thead>\n",
       "    <tr style=\"text-align: right;\">\n",
       "      <th></th>\n",
       "      <th>partida</th>\n",
       "      <th>scian</th>\n",
       "      <th>subsector</th>\n",
       "      <th>descripcion</th>\n",
       "    </tr>\n",
       "  </thead>\n",
       "  <tbody>\n",
       "    <tr>\n",
       "      <th>0</th>\n",
       "      <td>970600</td>\n",
       "      <td>339999</td>\n",
       "      <td>339</td>\n",
       "      <td>Otras industrias manufactureras</td>\n",
       "    </tr>\n",
       "    <tr>\n",
       "      <th>1</th>\n",
       "      <td>970500</td>\n",
       "      <td>339999</td>\n",
       "      <td>339</td>\n",
       "      <td>Otras industrias manufactureras</td>\n",
       "    </tr>\n",
       "    <tr>\n",
       "      <th>2</th>\n",
       "      <td>970400</td>\n",
       "      <td>339999</td>\n",
       "      <td>339</td>\n",
       "      <td>Otras industrias manufactureras</td>\n",
       "    </tr>\n",
       "    <tr>\n",
       "      <th>3</th>\n",
       "      <td>970300</td>\n",
       "      <td>339999</td>\n",
       "      <td>339</td>\n",
       "      <td>Otras industrias manufactureras</td>\n",
       "    </tr>\n",
       "    <tr>\n",
       "      <th>4</th>\n",
       "      <td>970200</td>\n",
       "      <td>339999</td>\n",
       "      <td>339</td>\n",
       "      <td>Otras industrias manufactureras</td>\n",
       "    </tr>\n",
       "    <tr>\n",
       "      <th>...</th>\n",
       "      <td>...</td>\n",
       "      <td>...</td>\n",
       "      <td>...</td>\n",
       "      <td>...</td>\n",
       "    </tr>\n",
       "    <tr>\n",
       "      <th>5200</th>\n",
       "      <td>010221</td>\n",
       "      <td>112110</td>\n",
       "      <td>112</td>\n",
       "      <td>Cría y explotación de animales</td>\n",
       "    </tr>\n",
       "    <tr>\n",
       "      <th>5201</th>\n",
       "      <td>010190</td>\n",
       "      <td>112920</td>\n",
       "      <td>112</td>\n",
       "      <td>Cría y explotación de animales</td>\n",
       "    </tr>\n",
       "    <tr>\n",
       "      <th>5202</th>\n",
       "      <td>010130</td>\n",
       "      <td>112920</td>\n",
       "      <td>112</td>\n",
       "      <td>Cría y explotación de animales</td>\n",
       "    </tr>\n",
       "    <tr>\n",
       "      <th>5203</th>\n",
       "      <td>010129</td>\n",
       "      <td>112920</td>\n",
       "      <td>112</td>\n",
       "      <td>Cría y explotación de animales</td>\n",
       "    </tr>\n",
       "    <tr>\n",
       "      <th>5204</th>\n",
       "      <td>010121</td>\n",
       "      <td>112920</td>\n",
       "      <td>112</td>\n",
       "      <td>Cría y explotación de animales</td>\n",
       "    </tr>\n",
       "  </tbody>\n",
       "</table>\n",
       "<p>5205 rows × 4 columns</p>\n",
       "</div>"
      ],
      "text/plain": [
       "     partida   scian subsector                      descripcion\n",
       "0     970600  339999       339  Otras industrias manufactureras\n",
       "1     970500  339999       339  Otras industrias manufactureras\n",
       "2     970400  339999       339  Otras industrias manufactureras\n",
       "3     970300  339999       339  Otras industrias manufactureras\n",
       "4     970200  339999       339  Otras industrias manufactureras\n",
       "...      ...     ...       ...                              ...\n",
       "5200  010221  112110       112   Cría y explotación de animales\n",
       "5201  010190  112920       112   Cría y explotación de animales\n",
       "5202  010130  112920       112   Cría y explotación de animales\n",
       "5203  010129  112920       112   Cría y explotación de animales\n",
       "5204  010121  112920       112   Cría y explotación de animales\n",
       "\n",
       "[5205 rows x 4 columns]"
      ]
     },
     "execution_count": 10,
     "metadata": {},
     "output_type": "execute_result"
    }
   ],
   "source": [
    "r = requests.get(url)\n",
    "contenido = json.loads(r.content)\n",
    "pd.DataFrame(contenido)"
   ]
  }
 ],
 "metadata": {
  "kernelspec": {
   "display_name": "Python 3",
   "language": "python",
   "name": "python3"
  },
  "language_info": {
   "codemirror_mode": {
    "name": "ipython",
    "version": 3
   },
   "file_extension": ".py",
   "mimetype": "text/x-python",
   "name": "python",
   "nbconvert_exporter": "python",
   "pygments_lexer": "ipython3",
   "version": "3.10.9"
  }
 },
 "nbformat": 4,
 "nbformat_minor": 2
}
