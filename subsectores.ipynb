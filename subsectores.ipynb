{
 "cells": [
  {
   "cell_type": "code",
   "execution_count": 1,
   "metadata": {},
   "outputs": [],
   "source": [
    "import pandas as pd\n",
    "import json"
   ]
  },
  {
   "cell_type": "code",
   "execution_count": 8,
   "metadata": {},
   "outputs": [],
   "source": [
    "scian_2018 = pd.read_parquet(\"scian/scian_2018.parquet\")\n",
    "\n",
    "my_dict = scian_2018.to_dict()\n",
    "\n",
    "tf = open(\"scian/scian_2018.json\", \"w\")\n",
    "json.dump(my_dict, tf)\n",
    "tf.close()"
   ]
  },
  {
   "cell_type": "code",
   "execution_count": 9,
   "metadata": {},
   "outputs": [],
   "source": [
    "scian_2023 = pd.read_parquet(\"scian/scian_2023.parquet\")\n",
    "\n",
    "my_dict = scian_2023.to_dict()\n",
    "\n",
    "tf = open(\"scian/scian_2023.json\", \"w\")\n",
    "json.dump(my_dict, tf)\n",
    "tf.close()"
   ]
  }
 ],
 "metadata": {
  "kernelspec": {
   "display_name": "Python 3",
   "language": "python",
   "name": "python3"
  },
  "language_info": {
   "codemirror_mode": {
    "name": "ipython",
    "version": 3
   },
   "file_extension": ".py",
   "mimetype": "text/x-python",
   "name": "python",
   "nbconvert_exporter": "python",
   "pygments_lexer": "ipython3",
   "version": "3.10.9"
  }
 },
 "nbformat": 4,
 "nbformat_minor": 2
}
